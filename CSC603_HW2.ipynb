{
  "cells": [
    {
      "cell_type": "markdown",
      "metadata": {
        "id": "NgCV8NAfu8g2"
      },
      "source": [
        "# CSC 603 - Homework 2"
      ]
    },
    {
      "cell_type": "markdown",
      "metadata": {
        "id": "Ilir7-I5u8g8"
      },
      "source": [
        "### Name: Reem Mohammed AlNasser\n",
        "### Id: 431010436"
      ]
    },
    {
      "cell_type": "code",
      "execution_count": 3,
      "metadata": {
        "id": "f-zLd_1Du8g9"
      },
      "outputs": [],
      "source": [
        "import numpy as np\n",
        "import matplotlib.pyplot as plt "
      ]
    },
    {
      "cell_type": "markdown",
      "metadata": {
        "id": "sdexsUadu8g_"
      },
      "source": [
        "# Part 1: Logestic regression"
      ]
    },
    {
      "cell_type": "markdown",
      "metadata": {
        "id": "m_fsBWceu8g_"
      },
      "source": [
        "#### <font color='purple'> 1)  Write a function to compute sigmoid using the following equation: </font>"
      ]
    },
    {
      "cell_type": "markdown",
      "metadata": {
        "id": "dtTRkIefu8hA"
      },
      "source": [
        "![Screen%20Shot%202021-03-18%20at%208.49.22%20AM.png](attachment:Screen%20Shot%202021-03-18%20at%208.49.22%20AM.png)"
      ]
    },
    {
      "cell_type": "code",
      "execution_count": 4,
      "metadata": {
        "id": "DVx1XXZYu8hB"
      },
      "outputs": [],
      "source": [
        "def sigmoid(z):\n",
        "    \n",
        "    ## write your code here\n",
        "    return 1/(1 + np.exp(-z))"
      ]
    },
    {
      "cell_type": "code",
      "execution_count": 5,
      "metadata": {
        "colab": {
          "base_uri": "https://localhost:8080/"
        },
        "id": "PnrqW1MKu8hB",
        "outputId": "c09f5531-f600-4f36-e5ed-04ce4789a6ac"
      },
      "outputs": [
        {
          "output_type": "stream",
          "name": "stdout",
          "text": [
            "[0.5        0.88079708 0.26894142 1.         1.        ]\n"
          ]
        }
      ],
      "source": [
        "z=np.array([0,2., -1, 22, 100])\n",
        "print(sigmoid(z))"
      ]
    },
    {
      "cell_type": "markdown",
      "metadata": {
        "id": "hl1iuMd9u8hD"
      },
      "source": [
        "#### <font color='purple'> 2)  Write a function to compute the loss using the following formula </font>"
      ]
    },
    {
      "cell_type": "markdown",
      "metadata": {
        "id": "nTb-uXkGu8hE"
      },
      "source": [
        "![Screen%20Shot%202021-03-18%20at%208.53.29%20AM.png](attachment:Screen%20Shot%202021-03-18%20at%208.53.29%20AM.png)"
      ]
    },
    {
      "cell_type": "code",
      "execution_count": 6,
      "metadata": {
        "colab": {
          "base_uri": "https://localhost:8080/"
        },
        "id": "akrGqiMfu8hF",
        "outputId": "60bbc97c-46e8-45b1-c14d-30b6bfc07efd"
      },
      "outputs": [
        {
          "output_type": "stream",
          "name": "stdout",
          "text": [
            "0.7585193823768299\n"
          ]
        }
      ],
      "source": [
        "## y correct outputs\n",
        "## y_bar: predicted outputs\n",
        "\n",
        "def loss_f(y, y_bar):\n",
        "  # write your code here\n",
        "    j = len(y)\n",
        "    lo = -1/ j * np.sum((y.T*np.log(y_bar)+(1-y.T)*np.log(1-y_bar)))\n",
        "\n",
        "    return lo\n",
        "\n",
        "y_bar=np.array([0.5,0.88079708, 0.26894142,.1 , .3])\n",
        "y=np. array([1,1,0,1,0])\n",
        "print(loss_f(y,y_bar)) "
      ]
    },
    {
      "cell_type": "markdown",
      "metadata": {
        "id": "jIedM4Zdu8hG"
      },
      "source": [
        "#### <font color='purple'> 3)  Write a function to compute the gradient using the following equation: </font>"
      ]
    },
    {
      "cell_type": "code",
      "execution_count": 7,
      "metadata": {
        "colab": {
          "base_uri": "https://localhost:8080/"
        },
        "id": "1YszYDq4u8hG",
        "outputId": "f811c324-b978-4cc7-8617-3a62183185ec"
      },
      "outputs": [
        {
          "output_type": "stream",
          "name": "stdout",
          "text": [
            "0.7585193823768299\n"
          ]
        }
      ],
      "source": [
        "y_bar=np.array([0.5, 0.88079708 ,0.26894142, .1, .3])\n",
        "y=np.array([1,1,0,1,0])\n",
        "print(loss_f(y, y_bar))"
      ]
    },
    {
      "cell_type": "markdown",
      "metadata": {
        "id": "CPws-rlau8hH"
      },
      "source": [
        "![Screen%20Shot%202021-03-18%20at%209.34.57%20AM.png](attachment:Screen%20Shot%202021-03-18%20at%209.34.57%20AM.png)"
      ]
    },
    {
      "cell_type": "code",
      "execution_count": 8,
      "metadata": {
        "id": "WJeWSPp7u8hH"
      },
      "outputs": [],
      "source": [
        "def compute_grad(X, y, y_bar):\n",
        "\n",
        "    # write your code here\n",
        "    \n",
        "  return 1/len(y)*np.dot(X.T,(y_bar-y))\n",
        "            "
      ]
    },
    {
      "cell_type": "code",
      "execution_count": 9,
      "metadata": {
        "id": "m4tLjn1ju8hI"
      },
      "outputs": [],
      "source": [
        "X=np.array([[1,0.77132064, 0.02075195, 0.63364823],\n",
        " [1, 1.74880388 ,0.49850701 ,0.22479665],\n",
        " [1, 0.19806286, 0.76053071 ,0.16911084],\n",
        " [1, 0.08833981 , 3.68535982 , -0.95339335],\n",
        " [1, -0.00394827 ,0.51219226 ,0.81262096]])\n"
      ]
    },
    {
      "cell_type": "code",
      "execution_count": 10,
      "metadata": {
        "colab": {
          "base_uri": "https://localhost:8080/"
        },
        "id": "LEF0KsqKu8hI",
        "outputId": "d8e9583d-b4a6-45a0-911e-34c0d2b6bf15"
      },
      "outputs": [
        {
          "output_type": "stream",
          "name": "stdout",
          "text": [
            "(5, 4)\n"
          ]
        }
      ],
      "source": [
        "print(X.shape)"
      ]
    },
    {
      "cell_type": "code",
      "execution_count": 11,
      "metadata": {
        "colab": {
          "base_uri": "https://localhost:8080/"
        },
        "id": "UDqOs3c8u8hJ",
        "outputId": "1637133a-bbc9-4514-a826-1355a4b63ce7"
      },
      "outputs": [
        {
          "output_type": "stream",
          "name": "stdout",
          "text": [
            "[-0.1900523  -0.12430917 -0.60568548  0.16074014]\n"
          ]
        }
      ],
      "source": [
        "y_bar=np.array([0.5, 0.88079708 ,0.26894142, .1, .3])\n",
        "y=np.array([1,1,0,1,0])\n",
        "g=compute_grad(X, y, y_bar)\n",
        "\n",
        "print(g)"
      ]
    },
    {
      "cell_type": "markdown",
      "metadata": {
        "id": "lc_hIdZSu8hJ"
      },
      "source": [
        "#### <font color='purple'> 4)  Write a function to compute $z$ using the following equation: </font>"
      ]
    },
    {
      "cell_type": "markdown",
      "metadata": {
        "id": "PcaxKSxju8hK"
      },
      "source": [
        "$ z=X *\\theta $"
      ]
    },
    {
      "cell_type": "code",
      "execution_count": 12,
      "metadata": {
        "id": "nVTNq34Au8hK"
      },
      "outputs": [],
      "source": [
        "def f(X, theta):\n",
        "  \n",
        "    ## write your code here\n",
        "    z = X.dot(theta)\n",
        "    \n",
        "    x = np.matrix(X)\n",
        "    return z"
      ]
    },
    {
      "cell_type": "code",
      "execution_count": 13,
      "metadata": {
        "colab": {
          "base_uri": "https://localhost:8080/"
        },
        "id": "BAcvYWzdu8hL",
        "outputId": "929cc656-3bb5-43cc-cc85-a467caf280db"
      },
      "outputs": [
        {
          "output_type": "stream",
          "name": "stdout",
          "text": [
            "[-1.02756364 -1.99206849 -2.51734098 -8.39169429 -2.00650686]\n"
          ]
        }
      ],
      "source": [
        "theta=np.array([-1, .0, -2., .022])\n",
        "z=f(X, theta)\n",
        "print(z)"
      ]
    },
    {
      "cell_type": "markdown",
      "metadata": {
        "id": "3oI16D4qu8hL"
      },
      "source": [
        "#### <font color='purple'> 5)  Write a function to predict class labels for samples in X. </font>"
      ]
    },
    {
      "cell_type": "code",
      "execution_count": 14,
      "metadata": {
        "colab": {
          "base_uri": "https://localhost:8080/"
        },
        "id": "u7G5SwNqu8hL",
        "outputId": "f2944d42-a6fa-4eef-c6a1-8ad643d46c48"
      },
      "outputs": [
        {
          "output_type": "stream",
          "name": "stdout",
          "text": [
            "[2.63556716e-01 1.20038198e-01 7.46514188e-02 2.26691383e-04\n",
            " 1.18521435e-01]\n",
            "[0, 0, 0, 0, 0]\n"
          ]
        }
      ],
      "source": [
        "\n",
        "    ### write your code here\n",
        "            ## note if output>=0.5 then output 1 else: 0\n",
        "def predict(X,theta):\n",
        "        y=X.dot(theta)\n",
        "        s= sigmoid(y)\n",
        "\n",
        "        y_pre= [1 if p >= 0.5 else 0 for p in s]\n",
        "\n",
        "        print(s)\n",
        "        return y_pre\n",
        "p=(predict(X,theta))\n",
        "print(p)"
      ]
    },
    {
      "cell_type": "code",
      "execution_count": 15,
      "metadata": {
        "colab": {
          "base_uri": "https://localhost:8080/"
        },
        "id": "EXf-xARiu8hM",
        "outputId": "a0d905d6-c514-476c-f652-2ea6bc2f0dd7"
      },
      "outputs": [
        {
          "output_type": "stream",
          "name": "stdout",
          "text": [
            "[2.63556716e-01 1.20038198e-01 7.46514188e-02 2.26691383e-04\n",
            " 1.18521435e-01]\n",
            "[0, 0, 0, 0, 0]\n"
          ]
        }
      ],
      "source": [
        "print(predict(X,theta))\n",
        "\n"
      ]
    },
    {
      "cell_type": "markdown",
      "metadata": {
        "id": "QPoq9__Eu8hM"
      },
      "source": [
        "#### <font color='purple'> 6)  Write a function to compute the accuracy </font>"
      ]
    },
    {
      "cell_type": "code",
      "execution_count": 16,
      "metadata": {
        "id": "ndhx-UU8u8hM"
      },
      "outputs": [],
      "source": [
        "def score(y_true, y_pred):\n",
        "    count= 0\n",
        "    # iterate over each label and check\n",
        "    for true, predicted in zip(y_true, y_pred):\n",
        "        if true == predicted:\n",
        "            count+= 1\n",
        "    # compute the accuracy\n",
        "    accuracy = count/len(y_true)\n",
        "    return accuracy"
      ]
    },
    {
      "cell_type": "code",
      "execution_count": 17,
      "metadata": {
        "colab": {
          "base_uri": "https://localhost:8080/"
        },
        "id": "9KqewmaSu8hN",
        "outputId": "868a71d3-c4e2-4de5-ee1f-a20771bb02c8"
      },
      "outputs": [
        {
          "output_type": "stream",
          "name": "stdout",
          "text": [
            "0.75\n"
          ]
        }
      ],
      "source": [
        "y = [1,1,1,0]\n",
        "y_bar=[1,1,1,1]\n",
        "print(score(y,y_bar))\n"
      ]
    },
    {
      "cell_type": "markdown",
      "metadata": {
        "id": "9u3bjgTru8hN"
      },
      "source": [
        "## Let’s also define the train function which will be used to find the model parameters that minimizes the cost function using functions above."
      ]
    },
    {
      "cell_type": "code",
      "execution_count": 18,
      "metadata": {
        "id": "xoUKvZYiu8hN"
      },
      "outputs": [],
      "source": [
        "def train(X,y, lr=0.02, iter=100):\n",
        "    loss=[]\n",
        "    theta=np.zeros(X.shape[1])\n",
        "    for i in range(iter):\n",
        "        z=f(X,theta)\n",
        "        \n",
        "        a=sigmoid(z)\n",
        "        loss_=loss_f(y,a)\n",
        "        g=compute_grad(X,y, a)\n",
        "        theta=theta-lr *g\n",
        "        loss.append(loss_)\n",
        "    print(theta)\n",
        "    ##print(loss)\n",
        "    \n",
        "    rr=list(range(iter))\n",
        "    plt.plot(rr, loss)\n",
        "    plt.show()\n",
        "    \n",
        "        \n",
        "    "
      ]
    },
    {
      "cell_type": "code",
      "execution_count": 19,
      "metadata": {
        "colab": {
          "base_uri": "https://localhost:8080/",
          "height": 283
        },
        "id": "DCgSTagnu8hO",
        "outputId": "114639c3-a234-49a2-aa55-2ef8557a1232"
      },
      "outputs": [
        {
          "output_type": "stream",
          "name": "stdout",
          "text": [
            "[-0.18732413 -0.16456771  0.22747216 -0.22780898]\n"
          ]
        },
        {
          "output_type": "display_data",
          "data": {
            "text/plain": [
              "<Figure size 432x288 with 1 Axes>"
            ],
            "image/png": "[encoded data removed]"
          },
          "metadata": {
            "needs_background": "light"
          }
        }
      ],
      "source": [
        "X=np.array([[1,0.77132064, 0.02075195, 0.63364823],\n",
        " [1, 1.74880388 ,0.49850701 ,0.22479665],\n",
        " [1, 0.19806286, 0.76053071 ,0.16911084],\n",
        " [1, 0.08833981 , 3.68535982 , -0.95339335],\n",
        " [1, -0.00394827 ,0.51219226 ,0.81262096]])\n",
        "\n",
        "\n",
        "y=np.array([1,0,0,1,0])\n",
        "train(X,y)"
      ]
    },
    {
      "cell_type": "markdown",
      "metadata": {
        "id": "gX3rxbrBu8hP"
      },
      "source": [
        "#### <font color='purple'> 6)  - Load cancer dataset from sklearn. Split the data into 70% for traing and 30% for testing. Train the training set using train function. Then, cacluate the accuracy on testing set</font>"
      ]
    },
    {
      "cell_type": "code",
      "source": [
        "import numpy as np\n",
        "from sklearn import datasets\n",
        "from sklearn.model_selection import train_test_split\n",
        "from sklearn.metrics import mean_squared_error\n",
        "from sklearn import datasets\n",
        "import matplotlib.pyplot as plt\n",
        "np.seterr(invalid=\"ignore\")"
      ],
      "metadata": {
        "colab": {
          "base_uri": "https://localhost:8080/"
        },
        "id": "CnUz3ToLzVqy",
        "outputId": "4c0cdc0c-9fc2-4dfd-f75d-deb6d301623a"
      },
      "execution_count": 20,
      "outputs": [
        {
          "output_type": "execute_result",
          "data": {
            "text/plain": [
              "{'divide': 'warn', 'invalid': 'warn', 'over': 'warn', 'under': 'ignore'}"
            ]
          },
          "metadata": {},
          "execution_count": 20
        }
      ]
    },
    {
      "cell_type": "code",
      "source": [
        "breast_cancer= datasets.load_breast_cancer()\n",
        "breast_cancer.feature_names"
      ],
      "metadata": {
        "colab": {
          "base_uri": "https://localhost:8080/"
        },
        "id": "E6oG15UNzpe9",
        "outputId": "ef2d56b0-950b-4aef-fb6a-fabdce012302"
      },
      "execution_count": 21,
      "outputs": [
        {
          "output_type": "execute_result",
          "data": {
            "text/plain": [
              "array(['mean radius', 'mean texture', 'mean perimeter', 'mean area',\n",
              "       'mean smoothness', 'mean compactness', 'mean concavity',\n",
              "       'mean concave points', 'mean symmetry', 'mean fractal dimension',\n",
              "       'radius error', 'texture error', 'perimeter error', 'area error',\n",
              "       'smoothness error', 'compactness error', 'concavity error',\n",
              "       'concave points error', 'symmetry error',\n",
              "       'fractal dimension error', 'worst radius', 'worst texture',\n",
              "       'worst perimeter', 'worst area', 'worst smoothness',\n",
              "       'worst compactness', 'worst concavity', 'worst concave points',\n",
              "       'worst symmetry', 'worst fractal dimension'], dtype='<U23')"
            ]
          },
          "metadata": {},
          "execution_count": 21
        }
      ]
    },
    {
      "cell_type": "code",
      "source": [
        "X,y=datasets.load_breast_cancer(return_X_y=True)\n",
        "y"
      ],
      "metadata": {
        "colab": {
          "base_uri": "https://localhost:8080/"
        },
        "id": "aSmPvsxgzruk",
        "outputId": "3f01ff24-0bb3-4d9a-d15a-2fe1c7fcf559"
      },
      "execution_count": 22,
      "outputs": [
        {
          "output_type": "execute_result",
          "data": {
            "text/plain": [
              "array([0, 0, 0, 0, 0, 0, 0, 0, 0, 0, 0, 0, 0, 0, 0, 0, 0, 0, 0, 1, 1, 1,\n",
              "       0, 0, 0, 0, 0, 0, 0, 0, 0, 0, 0, 0, 0, 0, 0, 1, 0, 0, 0, 0, 0, 0,\n",
              "       0, 0, 1, 0, 1, 1, 1, 1, 1, 0, 0, 1, 0, 0, 1, 1, 1, 1, 0, 1, 0, 0,\n",
              "       1, 1, 1, 1, 0, 1, 0, 0, 1, 0, 1, 0, 0, 1, 1, 1, 0, 0, 1, 0, 0, 0,\n",
              "       1, 1, 1, 0, 1, 1, 0, 0, 1, 1, 1, 0, 0, 1, 1, 1, 1, 0, 1, 1, 0, 1,\n",
              "       1, 1, 1, 1, 1, 1, 1, 0, 0, 0, 1, 0, 0, 1, 1, 1, 0, 0, 1, 0, 1, 0,\n",
              "       0, 1, 0, 0, 1, 1, 0, 1, 1, 0, 1, 1, 1, 1, 0, 1, 1, 1, 1, 1, 1, 1,\n",
              "       1, 1, 0, 1, 1, 1, 1, 0, 0, 1, 0, 1, 1, 0, 0, 1, 1, 0, 0, 1, 1, 1,\n",
              "       1, 0, 1, 1, 0, 0, 0, 1, 0, 1, 0, 1, 1, 1, 0, 1, 1, 0, 0, 1, 0, 0,\n",
              "       0, 0, 1, 0, 0, 0, 1, 0, 1, 0, 1, 1, 0, 1, 0, 0, 0, 0, 1, 1, 0, 0,\n",
              "       1, 1, 1, 0, 1, 1, 1, 1, 1, 0, 0, 1, 1, 0, 1, 1, 0, 0, 1, 0, 1, 1,\n",
              "       1, 1, 0, 1, 1, 1, 1, 1, 0, 1, 0, 0, 0, 0, 0, 0, 0, 0, 0, 0, 0, 0,\n",
              "       0, 0, 1, 1, 1, 1, 1, 1, 0, 1, 0, 1, 1, 0, 1, 1, 0, 1, 0, 0, 1, 1,\n",
              "       1, 1, 1, 1, 1, 1, 1, 1, 1, 1, 1, 0, 1, 1, 0, 1, 0, 1, 1, 1, 1, 1,\n",
              "       1, 1, 1, 1, 1, 1, 1, 1, 1, 0, 1, 1, 1, 0, 1, 0, 1, 1, 1, 1, 0, 0,\n",
              "       0, 1, 1, 1, 1, 0, 1, 0, 1, 0, 1, 1, 1, 0, 1, 1, 1, 1, 1, 1, 1, 0,\n",
              "       0, 0, 1, 1, 1, 1, 1, 1, 1, 1, 1, 1, 1, 0, 0, 1, 0, 0, 0, 1, 0, 0,\n",
              "       1, 1, 1, 1, 1, 0, 1, 1, 1, 1, 1, 0, 1, 1, 1, 0, 1, 1, 0, 0, 1, 1,\n",
              "       1, 1, 1, 1, 0, 1, 1, 1, 1, 1, 1, 1, 0, 1, 1, 1, 1, 1, 0, 1, 1, 0,\n",
              "       1, 1, 1, 1, 1, 1, 1, 1, 1, 1, 1, 1, 0, 1, 0, 0, 1, 0, 1, 1, 1, 1,\n",
              "       1, 0, 1, 1, 0, 1, 0, 1, 1, 0, 1, 0, 1, 1, 1, 1, 1, 1, 1, 1, 0, 0,\n",
              "       1, 1, 1, 1, 1, 1, 0, 1, 1, 1, 1, 1, 1, 1, 1, 1, 1, 0, 1, 1, 1, 1,\n",
              "       1, 1, 1, 0, 1, 0, 1, 1, 0, 1, 1, 1, 1, 1, 0, 0, 1, 0, 1, 0, 1, 1,\n",
              "       1, 1, 1, 0, 1, 1, 0, 1, 0, 1, 0, 0, 1, 1, 1, 0, 1, 1, 1, 1, 1, 1,\n",
              "       1, 1, 1, 1, 1, 0, 1, 0, 0, 1, 1, 1, 1, 1, 1, 1, 1, 1, 1, 1, 1, 1,\n",
              "       1, 1, 1, 1, 1, 1, 1, 1, 1, 1, 1, 1, 0, 0, 0, 0, 0, 0, 1])"
            ]
          },
          "metadata": {},
          "execution_count": 22
        }
      ]
    },
    {
      "cell_type": "code",
      "source": [
        "X_train, X_test, y_train, y_test= train_test_split(X,y,test_size=0.3) "
      ],
      "metadata": {
        "id": "RToylVJyzwik"
      },
      "execution_count": 23,
      "outputs": []
    },
    {
      "cell_type": "markdown",
      "metadata": {
        "id": "xlQS0ORcu8hP"
      },
      "source": [
        "# Part 2: Naive Bayes classifier"
      ]
    },
    {
      "cell_type": "markdown",
      "metadata": {
        "id": "XZxxeXjuu8hP"
      },
      "source": [
        "### You have a set of customers reviews (training set) and a classification as shown in the table below. "
      ]
    },
    {
      "cell_type": "code",
      "execution_count": 70,
      "metadata": {
        "id": "CRWpcyHOu8hP"
      },
      "outputs": [],
      "source": [
        "reviews=[['he likes the restaurant'],['he dislikes the restaurant'],['wonderful restaurant'],\n",
        "         ['great service and fantastic food']]\n",
        "labels=['positive','negitive','positive','positive' ]"
      ]
    },
    {
      "cell_type": "markdown",
      "metadata": {
        "id": "kUNNkZHcu8hQ"
      },
      "source": [
        "#### <font color='purple'> 1)  Write a function to return the number of all unique words in the training set</font>"
      ]
    },
    {
      "cell_type": "code",
      "execution_count": 81,
      "metadata": {
        "id": "rUCTpvfRu8hQ"
      },
      "outputs": [],
      "source": [
        "def get_length_of_unique_words(corpus):\n",
        "    ## write your code here\n",
        "\n",
        "    unique_W = set()\n",
        "    for text in corpus:\n",
        "        for word in text[0].split():\n",
        "           unique_W.add(word)\n",
        "\n",
        "    return len(list(unique_W))    "
      ]
    },
    {
      "cell_type": "code",
      "execution_count": 82,
      "metadata": {
        "colab": {
          "base_uri": "https://localhost:8080/"
        },
        "id": "eYLSHSw3u8hQ",
        "outputId": "341acf88-579e-4535-85e7-51fb666f8d4a"
      },
      "outputs": [
        {
          "output_type": "stream",
          "name": "stdout",
          "text": [
            "11\n"
          ]
        }
      ],
      "source": [
        "V= get_length_of_unique_words(reviews)\n",
        "print(V)"
      ]
    },
    {
      "cell_type": "markdown",
      "metadata": {
        "id": "JC0oqA8ju8hR"
      },
      "source": [
        "#### <font color='purple'> 2)  Write a function to return the number of all words in given class</font>"
      ]
    },
    {
      "cell_type": "code",
      "execution_count": 50,
      "metadata": {
        "id": "y5kLwO0ju8hR"
      },
      "outputs": [],
      "source": [
        "def get_length_of_all_words_for_given_class(corpus,All_labels,label):\n",
        "    ### write your code here\n",
        "    number = list()\n",
        "    for i, nlabel in enumerate(labels):\n",
        "        if nlabel== label:\n",
        "           number.append(i)\n",
        "\n",
        "    class_word= list()\n",
        "    for i in number:  \n",
        "        text= corpus[i] \n",
        "        for word in text [0].split():\n",
        "            class_word.append(word)\n",
        "\n",
        "    return len(class_word) "
      ]
    },
    {
      "cell_type": "code",
      "execution_count": 51,
      "metadata": {
        "colab": {
          "base_uri": "https://localhost:8080/"
        },
        "id": "o_Xn4k9Mu8hR",
        "outputId": "41800cde-f8bc-4d42-aecb-e8cb7ce06507"
      },
      "outputs": [
        {
          "output_type": "stream",
          "name": "stdout",
          "text": [
            "4\n",
            "11\n"
          ]
        }
      ],
      "source": [
        "## Test your code to validate the results\n",
        "all_words_len_for_negitive_class=get_length_of_all_words_for_given_class(reviews,labels, label='negitive')\n",
        "print(all_words_len_for_negitive_class)\n",
        "\n",
        "\n",
        "all_words_len_for_positive_class=get_length_of_all_words_for_given_class(reviews,labels, label='positive')\n",
        "print(all_words_len_for_positive_class)\n"
      ]
    },
    {
      "cell_type": "markdown",
      "metadata": {
        "id": "6MPgd8d8u8hS"
      },
      "source": [
        "#### <font color='purple'> 3)  Write a function to return the occurance of given word in spcific class</font>"
      ]
    },
    {
      "cell_type": "code",
      "execution_count": 83,
      "metadata": {
        "id": "5kdVf9JWu8hS"
      },
      "outputs": [],
      "source": [
        "def get_of_occurance_of_word_in_given_class(word,corpus,labels, given_class):\n",
        "    ## write your code here\n",
        "    count= list()\n",
        "    for i,olabel in enumerate(labels):\n",
        "      if olabel== given_class:\n",
        "        count.append(i)\n",
        "\n",
        "    class_w= list()\n",
        "    for i in count:\n",
        "        text= corpus[i]\n",
        "        for word in text[0].split():\n",
        "          class_w.append(word)\n",
        "\n",
        "    occurance = 0\n",
        "    for olabel in class_w:\n",
        "      if olabel ==word:\n",
        "        occurance +=1\n",
        "\n",
        "    return occurance        "
      ]
    },
    {
      "cell_type": "code",
      "execution_count": 87,
      "metadata": {
        "colab": {
          "base_uri": "https://localhost:8080/"
        },
        "id": "OJVZkJ7Fu8hS",
        "outputId": "1640fd60-78c8-4f69-d621-0df95df4d668"
      },
      "outputs": [
        {
          "output_type": "execute_result",
          "data": {
            "text/plain": [
              "1"
            ]
          },
          "metadata": {},
          "execution_count": 87
        }
      ],
      "source": [
        "occurance=get_of_occurance_of_word_in_given_class('restaurant', reviews, labels, 'negitive')\n",
        "occurance"
      ]
    },
    {
      "cell_type": "markdown",
      "metadata": {
        "id": "yLuU1xxYu8hS"
      },
      "source": [
        "#### <font color='purple'> 4)  Write a function to calculate the  prior probablity for given class</font>"
      ]
    },
    {
      "cell_type": "code",
      "execution_count": 100,
      "metadata": {
        "id": "hhTkn2O3u8hS"
      },
      "outputs": [],
      "source": [
        "def get_prior_prob(c):\n",
        "    # write your code here\n",
        "    all_words_len_for_class = get_length_of_all_words_for_given_class(reviews, labels,label=c)\n",
        "\n",
        "\n",
        "    all_words_len_for_negitive_class = get_length_of_all_words_for_given_class(reviews, labels, label=\"negitive\")\n",
        "    all_words_len_for_positive_class = get_length_of_all_words_for_given_class(reviews, labels, label=\"positive\")\n",
        "\n",
        "    prior= all_words_len_for_class/(all_words_len_for_negitive_class + all_words_len_for_positive_class)\n",
        "\n",
        "    return prior\n"
      ]
    },
    {
      "cell_type": "code",
      "execution_count": 101,
      "metadata": {
        "colab": {
          "base_uri": "https://localhost:8080/"
        },
        "id": "E1C_SWcou8hT",
        "outputId": "f3985a45-3adb-4253-9aa8-a95207524644"
      },
      "outputs": [
        {
          "output_type": "stream",
          "name": "stdout",
          "text": [
            "0.26666666666666666\n"
          ]
        }
      ],
      "source": [
        "\n",
        "print(get_prior_prob('negitive'))"
      ]
    },
    {
      "cell_type": "markdown",
      "metadata": {
        "id": "HwNREz4Fu8hT"
      },
      "source": [
        "#### <font color='purple'> 4)  Write a function to caclulate the likelihood for a word given a class p(word|class)</font>"
      ]
    },
    {
      "cell_type": "code",
      "execution_count": 107,
      "metadata": {
        "id": "auAHu4jDu8hT"
      },
      "outputs": [],
      "source": [
        "## p(word|class)\n",
        "\n",
        "def get_likelihood_for_given_word(corpus,all_labels,word,given_class):\n",
        "    V=get_length_of_unique_words(reviews)\n",
        "    Len_of_all_words_for_given_class=get_length_of_all_words_for_given_class(corpus,all_labels, given_class)\n",
        "    occurance_=get_of_occurance_of_word_in_given_class('restaurant', reviews, labels, 'positive')\n",
        "    \n",
        "    ## apply the formula\n",
        "    likeihood=(occurance_+1)/(Len_of_all_words_for_given_class+V)\n",
        "    return likeihood\n",
        "  "
      ]
    },
    {
      "cell_type": "code",
      "execution_count": null,
      "metadata": {
        "id": "CVFJFgkeu8hT",
        "outputId": "ebc12195-4756-451d-84d7-23887185e062"
      },
      "outputs": [
        {
          "name": "stdout",
          "output_type": "stream",
          "text": [
            "0.13333333\n"
          ]
        }
      ],
      "source": [
        "likeihood=get_likelihood_for_given_word(reviews, labels, 'restaurant', 'negitive')\n",
        "print(likeihood)\n"
      ]
    },
    {
      "cell_type": "markdown",
      "metadata": {
        "id": "ni3ePxYMu8hU"
      },
      "source": [
        "# Part 3: Classification using PCA, KNN, and logesitic regression"
      ]
    },
    {
      "cell_type": "markdown",
      "metadata": {
        "id": "6xzjjc0Tu8hU"
      },
      "source": [
        "### LFW dataset\n",
        "###### The LFW dataset contains 13,233 images of faces collected from the web. This dataset consists of the 5749 identities with 1680 people with two or more images."
      ]
    },
    {
      "cell_type": "code",
      "execution_count": 113,
      "metadata": {
        "id": "J6-XSFXfu8hU"
      },
      "outputs": [],
      "source": [
        "from sklearn.datasets import fetch_lfw_people\n",
        "import matplotlib.pyplot as plt\n",
        "import numpy as np\n",
        "from sklearn.model_selection import train_test_split"
      ]
    },
    {
      "cell_type": "code",
      "execution_count": 114,
      "metadata": {
        "id": "AwWwlRePu8hU"
      },
      "outputs": [],
      "source": [
        "## load lfw dataset\n",
        "lfw= fetch_lfw_people(min_faces_per_person=10)"
      ]
    },
    {
      "cell_type": "code",
      "execution_count": 115,
      "metadata": {
        "colab": {
          "base_uri": "https://localhost:8080/"
        },
        "id": "Xp6kVH5ju8hV",
        "outputId": "12d1fdbd-342d-466f-b8ef-8c507564f06d"
      },
      "outputs": [
        {
          "output_type": "stream",
          "name": "stdout",
          "text": [
            ".. _labeled_faces_in_the_wild_dataset:\n",
            "\n",
            "The Labeled Faces in the Wild face recognition dataset\n",
            "------------------------------------------------------\n",
            "\n",
            "This dataset is a collection of JPEG pictures of famous people collected\n",
            "over the internet, all details are available on the official website:\n",
            "\n",
            "    http://vis-www.cs.umass.edu/lfw/\n",
            "\n",
            "Each picture is centered on a single face. The typical task is called\n",
            "Face Verification: given a pair of two pictures, a binary classifier\n",
            "must predict whether the two\n"
          ]
        }
      ],
      "source": [
        "print(lfw.DESCR[:500])"
      ]
    },
    {
      "cell_type": "code",
      "source": [
        "X=lfw.data\n",
        "y=lfw.target\n",
        "X.shape"
      ],
      "metadata": {
        "colab": {
          "base_uri": "https://localhost:8080/"
        },
        "id": "jriVEikX_LB9",
        "outputId": "f630b001-7b7a-41e8-a206-00a7b34c58b8"
      },
      "execution_count": 116,
      "outputs": [
        {
          "output_type": "execute_result",
          "data": {
            "text/plain": [
              "(4324, 2914)"
            ]
          },
          "metadata": {},
          "execution_count": 116
        }
      ]
    },
    {
      "cell_type": "code",
      "source": [
        "(X - np.mean(X))/np.std(X)"
      ],
      "metadata": {
        "colab": {
          "base_uri": "https://localhost:8080/"
        },
        "id": "KivmR9jA_Rl_",
        "outputId": "cc0b87bf-4504-4566-e90d-fefb9c2cb29a"
      },
      "execution_count": 117,
      "outputs": [
        {
          "output_type": "execute_result",
          "data": {
            "text/plain": [
              "array([[-0.73073566, -1.0470717 , -0.7379252 , ..., -2.0320268 ,\n",
              "        -1.9457533 , -1.9241849 ],\n",
              "       [-1.5431437 , -0.9320404 ,  0.08886187, ..., -2.736593  ,\n",
              "        -2.700646  , -2.6646986 ],\n",
              "       [-0.41439974, -0.5438099 , -0.4287786 , ...,  0.19670366,\n",
              "         0.3189245 ,  0.69277596],\n",
              "       ...,\n",
              "       [-2.420257  , -1.9817007 , -1.5215755 , ..., -1.1621028 ,\n",
              "        -1.1764818 , -1.2196186 ],\n",
              "       [-0.9823666 , -0.9823666 , -0.99674547, ...,  1.5123736 ,\n",
              "         1.3182584 ,  1.3326374 ],\n",
              "       [-1.6006595 , -1.5359545 , -1.1189661 , ..., -2.3267941 ,\n",
              "        -2.3555522 , -2.4490151 ]], dtype=float32)"
            ]
          },
          "metadata": {},
          "execution_count": 117
        }
      ]
    },
    {
      "cell_type": "code",
      "source": [
        "len(lfw.target_names)"
      ],
      "metadata": {
        "colab": {
          "base_uri": "https://localhost:8080/"
        },
        "id": "MzUxEycO_T6V",
        "outputId": "3ae9a6cd-61fb-4627-86bb-c52a73aaa1be"
      },
      "execution_count": 118,
      "outputs": [
        {
          "output_type": "execute_result",
          "data": {
            "text/plain": [
              "158"
            ]
          },
          "metadata": {},
          "execution_count": 118
        }
      ]
    },
    {
      "cell_type": "code",
      "execution_count": 112,
      "metadata": {
        "colab": {
          "base_uri": "https://localhost:8080/",
          "height": 256
        },
        "id": "N80o3rimu8hW",
        "outputId": "dd31f9da-ad6c-49b7-f9c4-020f55990be5"
      },
      "outputs": [
        {
          "output_type": "display_data",
          "data": {
            "text/plain": [
              "<Figure size 432x288 with 10 Axes>"
            ],
            "image/png": "[encoded data removed]"
          },
          "metadata": {}
        }
      ],
      "source": [
        "def plot_faces(images, n_row=2, n_col=5):\n",
        "    w=47\n",
        "    h=62\n",
        "    \"\"\"Helper function to plot a gallery of portraits\"\"\"\n",
        " \n",
        "    for i in range(n_row * n_col):\n",
        "        plt.subplot(n_row, n_col, i + 1)\n",
        "        plt.imshow(images[i].reshape((h, w)), cmap=plt.cm.gray)\n",
        "        plt.xticks(())\n",
        "        plt.yticks(())\n",
        "    plt.tight_layout()\n",
        "    plt.show()\n",
        "\n",
        "#plot the average face and some samples from the dataset\n",
        "plot_faces(X)\n"
      ]
    },
    {
      "cell_type": "code",
      "execution_count": 122,
      "metadata": {
        "id": "-l42xAnEu8hW"
      },
      "outputs": [],
      "source": [
        "X_train,X_test,y_train,y_test =train_test_split(X,y, test_size = 0.3,random_state=5)"
      ]
    },
    {
      "cell_type": "code",
      "source": [
        "from sklearn.linear_model import LogisticRegression\n",
        "from sklearn.neighbors import KNeighborsClassifier\n",
        "from sklearn import metrics"
      ],
      "metadata": {
        "id": "_KJp6crhBNmA"
      },
      "execution_count": 121,
      "outputs": []
    },
    {
      "cell_type": "markdown",
      "metadata": {
        "id": "Kqr4bM0au8hW"
      },
      "source": [
        "### 3- Write Python code to implement a face recognition systems using scikit-learn on lfw dataset. These systems include:\n",
        "1- Logestic regression model  (feed the images [raw features] into the logestic regression directly)<br> \n",
        "2- PCA + K_NN (number of principle components=100)<br>\n",
        "3- PCA+ logestic regression( number of principle components=100)<br>\n",
        "4- K-NN<br>\n",
        "5- Create a table comparsions to compare the accuracy of the Face recogniton systems above (Note: use tabulate library to print tabular data. For more details: https://pypi.org/project/tabulate/\n"
      ]
    },
    {
      "cell_type": "code",
      "execution_count": 123,
      "metadata": {
        "id": "CijZBbh-u8hX"
      },
      "outputs": [],
      "source": [
        "### write your code here\n",
        "from sklearn.linear_model import LogisticRegression\n",
        "from sklearn.neighbors import KNeighborsClassifier\n",
        "from sklearn import metrics\n",
        "from sklearn.pipeline import make_pipeline\n",
        "from sklearn.decomposition import PCA"
      ]
    },
    {
      "cell_type": "code",
      "execution_count": 124,
      "metadata": {
        "colab": {
          "base_uri": "https://localhost:8080/"
        },
        "id": "XTOVQR0Cu8hX",
        "outputId": "b33b1333-65b2-4168-cbeb-3d6785074638"
      },
      "outputs": [
        {
          "output_type": "stream",
          "name": "stdout",
          "text": [
            "0.43143297380585516\n"
          ]
        },
        {
          "output_type": "stream",
          "name": "stderr",
          "text": [
            "/usr/local/lib/python3.7/dist-packages/sklearn/linear_model/_logistic.py:818: ConvergenceWarning: lbfgs failed to converge (status=1):\n",
            "STOP: TOTAL NO. of ITERATIONS REACHED LIMIT.\n",
            "\n",
            "Increase the number of iterations (max_iter) or scale the data as shown in:\n",
            "    https://scikit-learn.org/stable/modules/preprocessing.html\n",
            "Please also refer to the documentation for alternative solver options:\n",
            "    https://scikit-learn.org/stable/modules/linear_model.html#logistic-regression\n",
            "  extra_warning_msg=_LOGISTIC_SOLVER_CONVERGENCE_MSG,\n"
          ]
        }
      ],
      "source": [
        "log= LogisticRegression()\n",
        "R=log.fit(X_train,y_train)\n",
        "y_p= log.predict(X_test)\n",
        "\n",
        "acc=metrics.accuracy_score(y_test,y_p)\n",
        "print(acc)\n"
      ]
    },
    {
      "cell_type": "code",
      "source": [
        "pca_k=make_pipeline(PCA(n_components=100),KNeighborsClassifier())\n",
        "pca_k.fit(X_train,y_train)\n",
        "y_p2 =pca_k.predict(X_test)\n",
        "ml=metrics.accuracy_score(y_test, y_p2)\n",
        "print(ml)"
      ],
      "metadata": {
        "colab": {
          "base_uri": "https://localhost:8080/"
        },
        "id": "O7tBbVknI5IR",
        "outputId": "932dfe9d-e176-4bff-881f-cdec5848afa4"
      },
      "execution_count": 126,
      "outputs": [
        {
          "output_type": "stream",
          "name": "stdout",
          "text": [
            "0.21571648690292758\n"
          ]
        }
      ]
    },
    {
      "cell_type": "code",
      "source": [
        "pca_lo=make_pipeline(PCA(n_components=100),LogisticRegression())\n",
        "pca_lo.fit(X_train,y_train)\n",
        "y_p3 =pca_lo.predict(X_test)\n",
        "ml2=metrics.accuracy_score(y_test, y_p3)\n",
        "print(ml2)"
      ],
      "metadata": {
        "colab": {
          "base_uri": "https://localhost:8080/"
        },
        "id": "8v0utTtGLXQJ",
        "outputId": "430b58c9-d8c3-4c47-d686-9935dcec3458"
      },
      "execution_count": 127,
      "outputs": [
        {
          "output_type": "stream",
          "name": "stdout",
          "text": [
            "0.3967642526964561\n"
          ]
        },
        {
          "output_type": "stream",
          "name": "stderr",
          "text": [
            "/usr/local/lib/python3.7/dist-packages/sklearn/linear_model/_logistic.py:818: ConvergenceWarning: lbfgs failed to converge (status=1):\n",
            "STOP: TOTAL NO. of ITERATIONS REACHED LIMIT.\n",
            "\n",
            "Increase the number of iterations (max_iter) or scale the data as shown in:\n",
            "    https://scikit-learn.org/stable/modules/preprocessing.html\n",
            "Please also refer to the documentation for alternative solver options:\n",
            "    https://scikit-learn.org/stable/modules/linear_model.html#logistic-regression\n",
            "  extra_warning_msg=_LOGISTIC_SOLVER_CONVERGENCE_MSG,\n"
          ]
        }
      ]
    },
    {
      "cell_type": "code",
      "source": [
        "neighbor=KNeighborsClassifier()\n",
        "neighbor.fit(X_train,y_train)\n",
        "y_p4=neighbor.predict(X_test)\n",
        "acc1=metrics.accuracy_score(y_test, y_p4)\n",
        "print(acc1)"
      ],
      "metadata": {
        "colab": {
          "base_uri": "https://localhost:8080/"
        },
        "id": "sjYEiXBILa2f",
        "outputId": "b38d5212-c34e-47f5-ffbf-3c548fa76833"
      },
      "execution_count": 128,
      "outputs": [
        {
          "output_type": "stream",
          "name": "stdout",
          "text": [
            "0.2103235747303544\n"
          ]
        }
      ]
    },
    {
      "cell_type": "code",
      "source": [
        "from tabulate import tabulate\n",
        "table = [[\" Logestic regression\",acc],[\"PCA + K_NN \",ml],\n",
        "         [\"PCA+ logestic regression\",ml2],[\"K_NN\",acc1]]\n",
        "print(tabulate(table))"
      ],
      "metadata": {
        "colab": {
          "base_uri": "https://localhost:8080/"
        },
        "id": "JqGuYONNLd_-",
        "outputId": "e8e3b2c7-a72b-464e-c8d3-e55c71564865"
      },
      "execution_count": 129,
      "outputs": [
        {
          "output_type": "stream",
          "name": "stdout",
          "text": [
            "------------------------  --------\n",
            "Logestic regression       0.431433\n",
            "PCA + K_NN                0.215716\n",
            "PCA+ logestic regression  0.396764\n",
            "K_NN                      0.210324\n",
            "------------------------  --------\n"
          ]
        }
      ]
    }
  ],
  "metadata": {
    "kernelspec": {
      "display_name": "Python 3",
      "language": "python",
      "name": "python3"
    },
    "language_info": {
      "codemirror_mode": {
        "name": "ipython",
        "version": 3
      },
      "file_extension": ".py",
      "mimetype": "text/x-python",
      "name": "python",
      "nbconvert_exporter": "python",
      "pygments_lexer": "ipython3",
      "version": "3.7.4"
    },
    "colab": {
      "name": "CSC603 HW2.ipynb",
      "provenance": []
    }
  },
  "nbformat": 4,
  "nbformat_minor": 0
}